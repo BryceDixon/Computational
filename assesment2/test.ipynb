{
 "cells": [
  {
   "cell_type": "code",
   "execution_count": 1,
   "metadata": {},
   "outputs": [],
   "source": [
    "import numpy as np\n",
    "import nbody_main as nbody"
   ]
  },
  {
   "cell_type": "code",
   "execution_count": 6,
   "metadata": {},
   "outputs": [
    {
     "name": "stdout",
     "output_type": "stream",
     "text": [
      "dif\n",
      "[0. 0. 0.]\n",
      "r\n",
      "1.0000000000000003e-15\n",
      "a\n",
      "[[0. 0. 0.]\n",
      " [0. 0. 0.]\n",
      " [0. 0. 0.]]\n",
      "dif\n",
      "[-1.  1.  0.]\n",
      "r\n",
      "2.8284271249583233\n",
      "a\n",
      "[[-1.06066017  1.06066017  0.        ]\n",
      " [ 0.          0.          0.        ]\n",
      " [ 0.          0.          0.        ]]\n",
      "dif\n",
      "[-1.  0.  1.]\n",
      "r\n",
      "2.8284271249583233\n",
      "a\n",
      "[[-1.41421356  1.06066017  0.35355339]\n",
      " [ 0.          0.          0.        ]\n",
      " [ 0.          0.          0.        ]]\n",
      "dif\n",
      "[ 1. -1.  0.]\n",
      "r\n",
      "2.8284271249583233\n",
      "a\n",
      "[[-1.41421356  1.06066017  0.35355339]\n",
      " [ 0.70710678 -0.70710678  0.        ]\n",
      " [ 0.          0.          0.        ]]\n",
      "dif\n",
      "[0. 0. 0.]\n",
      "r\n",
      "1.0000000000000003e-15\n",
      "a\n",
      "[[-1.41421356  1.06066017  0.35355339]\n",
      " [ 0.70710678 -0.70710678  0.        ]\n",
      " [ 0.          0.          0.        ]]\n",
      "dif\n",
      "[ 0. -1.  1.]\n",
      "r\n",
      "2.8284271249583233\n",
      "a\n",
      "[[-1.41421356  1.06066017  0.35355339]\n",
      " [ 0.70710678 -1.06066017  0.35355339]\n",
      " [ 0.          0.          0.        ]]\n",
      "dif\n",
      "[ 1.  0. -1.]\n",
      "r\n",
      "2.8284271249583233\n",
      "a\n",
      "[[-1.41421356  1.06066017  0.35355339]\n",
      " [ 0.70710678 -1.06066017  0.35355339]\n",
      " [ 0.70710678  0.         -0.70710678]]\n",
      "dif\n",
      "[ 0.  1. -1.]\n",
      "r\n",
      "2.8284271249583233\n",
      "a\n",
      "[[-1.41421356  1.06066017  0.35355339]\n",
      " [ 0.70710678 -1.06066017  0.35355339]\n",
      " [ 0.70710678  1.06066017 -1.76776695]]\n",
      "dif\n",
      "[0. 0. 0.]\n",
      "r\n",
      "1.0000000000000003e-15\n",
      "a\n",
      "[[-1.41421356  1.06066017  0.35355339]\n",
      " [ 0.70710678 -1.06066017  0.35355339]\n",
      " [ 0.70710678  1.06066017 -1.76776695]]\n"
     ]
    }
   ],
   "source": [
    "pos = np.array([(1,0,0),(0,1,0),(0,0,1)])\n",
    "mass = np.array([2,3,1])\n",
    "a = nbody.a(pos,mass)"
   ]
  },
  {
   "cell_type": "code",
   "execution_count": 3,
   "metadata": {},
   "outputs": [
    {
     "data": {
      "text/plain": [
       "array([[-1.06066017,  1.06066017,  0.        ],\n",
       "       [ 0.70710678, -0.70710678,  0.        ]])"
      ]
     },
     "execution_count": 3,
     "metadata": {},
     "output_type": "execute_result"
    }
   ],
   "source": [
    "a"
   ]
  },
  {
   "cell_type": "code",
   "execution_count": 4,
   "metadata": {},
   "outputs": [
    {
     "data": {
      "text/plain": [
       "2.828427124746191"
      ]
     },
     "execution_count": 4,
     "metadata": {},
     "output_type": "execute_result"
    }
   ],
   "source": [
    "((np.linalg.norm(np.array([-1,1,0])))**2)**(3/2)"
   ]
  },
  {
   "cell_type": "code",
   "execution_count": null,
   "metadata": {},
   "outputs": [],
   "source": []
  }
 ],
 "metadata": {
  "kernelspec": {
   "display_name": "base",
   "language": "python",
   "name": "python3"
  },
  "language_info": {
   "codemirror_mode": {
    "name": "ipython",
    "version": 3
   },
   "file_extension": ".py",
   "mimetype": "text/x-python",
   "name": "python",
   "nbconvert_exporter": "python",
   "pygments_lexer": "ipython3",
   "version": "3.11.4"
  }
 },
 "nbformat": 4,
 "nbformat_minor": 2
}
