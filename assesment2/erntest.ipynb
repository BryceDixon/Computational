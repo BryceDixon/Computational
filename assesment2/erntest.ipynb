{
 "cells": [
  {
   "cell_type": "code",
   "execution_count": 1,
   "metadata": {},
   "outputs": [
    {
     "ename": "ModuleNotFoundError",
     "evalue": "No module named 'ernbod'",
     "output_type": "error",
     "traceback": [
      "\u001b[1;31m---------------------------------------------------------------------------\u001b[0m",
      "\u001b[1;31mModuleNotFoundError\u001b[0m                       Traceback (most recent call last)",
      "\u001b[1;32mUntitled-1.ipynb Cell 1\u001b[0m line \u001b[0;36m3\n\u001b[0;32m      <a href='vscode-notebook-cell:Untitled-1.ipynb?jupyter-notebook#W0sdW50aXRsZWQ%3D?line=0'>1</a>\u001b[0m \u001b[39mimport\u001b[39;00m \u001b[39mnumpy\u001b[39;00m \u001b[39mas\u001b[39;00m \u001b[39mnp\u001b[39;00m\n\u001b[0;32m      <a href='vscode-notebook-cell:Untitled-1.ipynb?jupyter-notebook#W0sdW50aXRsZWQ%3D?line=1'>2</a>\u001b[0m \u001b[39mimport\u001b[39;00m \u001b[39mmatplotlib\u001b[39;00m\u001b[39m.\u001b[39;00m\u001b[39mpyplot\u001b[39;00m \u001b[39mas\u001b[39;00m \u001b[39mplt\u001b[39;00m\n\u001b[1;32m----> <a href='vscode-notebook-cell:Untitled-1.ipynb?jupyter-notebook#W0sdW50aXRsZWQ%3D?line=2'>3</a>\u001b[0m \u001b[39mimport\u001b[39;00m \u001b[39mernbod\u001b[39;00m \u001b[39mas\u001b[39;00m \u001b[39mnb\u001b[39;00m\n\u001b[0;32m      <a href='vscode-notebook-cell:Untitled-1.ipynb?jupyter-notebook#W0sdW50aXRsZWQ%3D?line=4'>5</a>\u001b[0m G \u001b[39m=\u001b[39m \u001b[39m1\u001b[39m  \u001b[39m# Gravitational constant in m^3 kg^-1 s^-2\u001b[39;00m\n\u001b[0;32m      <a href='vscode-notebook-cell:Untitled-1.ipynb?jupyter-notebook#W0sdW50aXRsZWQ%3D?line=5'>6</a>\u001b[0m epsilon \u001b[39m=\u001b[39m \u001b[39m0.00000001\u001b[39m\n",
      "\u001b[1;31mModuleNotFoundError\u001b[0m: No module named 'ernbod'"
     ]
    }
   ],
   "source": [
    "import numpy as np\n",
    "import matplotlib.pyplot as plt\n",
    "import ernbod as nb\n",
    "\n",
    "G = 1  # Gravitational constant in m^3 kg^-1 s^-2\n",
    "epsilon = 0.00000001\n",
    "masses = np.array([1, 1, 1])\n",
    "p1 = 0.513938\n",
    "p2 = 0.304736\n",
    "positions = np.array([[-1, 0, 0], [1, 0, 0], [0, 0, 0]])\n",
    "velocities = np.array([[p1, p2, 0], [p1, p2, 0], [-2*p1, -2*p2, 0]])\n",
    "\n",
    "h = 0.00001 \n",
    "total_time = 17.328370  # given period\n",
    "num_steps = int(total_time / h)\n",
    "\n",
    "names = ['1', '2', '3']\n",
    "\n",
    "trajectories, energy_updated, AM_mag_updated = nb.run_simulation(positions, velocities, masses, h, num_steps, G, epsilon)\n",
    "\n",
    "nb.plot_simulation(trajectories, energy_updated, AM_mag_updated, names, num_steps, h)"
   ]
  }
 ],
 "metadata": {
  "kernelspec": {
   "display_name": "base",
   "language": "python",
   "name": "python3"
  },
  "language_info": {
   "codemirror_mode": {
    "name": "ipython",
    "version": 3
   },
   "file_extension": ".py",
   "mimetype": "text/x-python",
   "name": "python",
   "nbconvert_exporter": "python",
   "pygments_lexer": "ipython3",
   "version": "3.11.4"
  }
 },
 "nbformat": 4,
 "nbformat_minor": 2
}
